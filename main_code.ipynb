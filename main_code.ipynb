{
 "cells": [
  {
   "cell_type": "code",
   "execution_count": null,
   "metadata": {
    "id": "5snaOdhkIqbe"
   },
   "outputs": [],
   "source": [
    "import numpy as np\n",
    "import matplotlib.pyplot as plt\n",
    "from abc import ABC, abstractmethod\n",
    "from matplotlib import cm\n",
    "from matplotlib.colors import ListedColormap, LinearSegmentedColormap\n",
    "from matplotlib.patches import Rectangle\n",
    "from collections import deque\n",
    "import time\n",
    "import pickle\n",
    "import os\n",
    "from datetime import datetime\n",
    "from copy import deepcopy"
   ]
  },
  {
   "cell_type": "markdown",
   "metadata": {
    "id": "Hif8BmjaKb50"
   },
   "source": [
    "# Problem Features\n",
    "\n",
    "## 1- Stages of the disease\n",
    "\n",
    "  - susceptible\n",
    "  - exposed   ???????\n",
    "  - presymptomatic \n",
    "  - infected asymptomatic\n",
    "  - infected symptomatic\n",
    "  - detected\n",
    "  - recovered, with immunity\n",
    "  - dead\n",
    "\n",
    "## 2- Parameters\n",
    "\n",
    "  - Moving probability (moving_probability) (not necessarily the same for all individuals)\n",
    "  - Fraction of Symptomatic Cases (fraction_of_symptomatic)\n",
    "  - Fraction of individuals equipped\n",
    "with an application (contact_tracing_fraction)\n",
    "  - Probability of detecting symptomatic individuals (symptomatic_detection_probability)\n",
    "  - Probability of recovery after detection (recovery_after_detection_probability)\n",
    "  - Probability of recovery without detection (recovery_without_detection_probability)\n",
    "  - Probability of becomming contagious (becoming_contagious_probability)\n",
    "  - Fatality after detection (fatality_after_detection)\n",
    "  - Fatality before detection (fatality_before_detection)\n",
    "\n",
    "## 3- Control methods\n",
    "\n",
    "  - Contact tracing\n",
    "  - Lockdown\n",
    "  - Body temperature checking (From Giovanni's paper)\n",
    "\n",
    "\n",
    "## 4- Goals\n",
    "\n",
    "  - \n",
    "\n"
   ]
  },
  {
   "cell_type": "markdown",
   "metadata": {
    "id": "qnVTgHPPIyrp"
   },
   "source": [
    "# Coordinate Class\n",
    "\n",
    "Used for storing the coordinate of individuals in the lattice"
   ]
  },
  {
   "cell_type": "code",
   "execution_count": null,
   "metadata": {
    "id": "U5vKK9vUtigu"
   },
   "outputs": [],
   "source": [
    "class Coordinate:\n",
    "    \n",
    "    MAX_LATTICE_SIZE = 1_000\n",
    "    PRECISION = 0.0001\n",
    "    \n",
    "    def __init__(self, x, y, lattice_size=None):\n",
    "        \n",
    "        self.lattice_size = lattice_size\n",
    "        self.xy = np.array([x, y])\n",
    "        if (self.lattice_size!=None):\n",
    "            self.xy = self.xy % self.lattice_size\n",
    "        \n",
    "\n",
    "    def __add__(self, other):\n",
    "          \n",
    "        xy = None\n",
    "        if (type(other)==Displacement):\n",
    "            xy = self.xy + other.xy\n",
    "        elif (type(other)==int) or (type(other)==float):\n",
    "            xy = self.xy + other\n",
    "        else:\n",
    "            assert (0), f\"invalied + operation between {self} and {other}\"\n",
    "        \n",
    "        if (self.lattice_size!=None):\n",
    "            xy = xy % self.lattice_size\n",
    "        return type(self)(*xy, self.lattice_size)\n",
    "        \n",
    "    \n",
    "    def __mul__(self, other):\n",
    "        \n",
    "        assert (type(other)==float or type(other)==int), f\"invalied * operation between {self} and {other}\"\n",
    "        xy = self.xy * other\n",
    "        if (self.lattice_size!=None):\n",
    "            xy = xy % self.lattice_size\n",
    "        return type(self)(*xy, self.lattice_size)\n",
    "    \n",
    "    \n",
    "    def __rmul__(self, other):\n",
    "        \n",
    "        return self.__mul__(other)\n",
    "    \n",
    "    \n",
    "    def __eq__(self, other):\n",
    "        \n",
    "        return (self.xy==other.xy).all() and (self.lattice_size==other.lattice_size)\n",
    "    \n",
    "    \n",
    "    def __repr__(self):\n",
    "        \n",
    "        return f\"Coordinate({self.xy[0]}, {self.xy[1]})\"\n",
    "    \n",
    "    \n",
    "    def __str__(self):\n",
    "        \n",
    "        return self.__repr__()\n",
    "    \n",
    "    \n",
    "    def __hash__(self):\n",
    "        \n",
    "        return int((self.xy[0] * self.MAX_LATTICE_SIZE + self.xy[1])/self.PRECISION)\n",
    "    \n",
    "    \n",
    "    @property\n",
    "    def tolist(self):\n",
    "\n",
    "        return self.xy.tolist()"
   ]
  },
  {
   "cell_type": "markdown",
   "metadata": {
    "id": "53d7B2GKI-Ol"
   },
   "source": [
    "# Displacement Class\n",
    "\n",
    "Used for defining the direction of individuals' movements"
   ]
  },
  {
   "cell_type": "code",
   "execution_count": null,
   "metadata": {
    "id": "-YlU87GQIwuG"
   },
   "outputs": [],
   "source": [
    "class Displacement(Coordinate):\n",
    "    \n",
    "\n",
    "    def __init__(self, x, y, lattice_size=None):\n",
    "\n",
    "        super().__init__(x, y, lattice_size)\n",
    "\n",
    "    \n",
    "    def __repr__(self):\n",
    "        \n",
    "        return f\"Displacement({self.xy[0]}, {self.xy[1]})\"\n",
    "    \n",
    "    \n",
    "    def __str__(self):\n",
    "        \n",
    "        return self.__repr__()"
   ]
  },
  {
   "cell_type": "markdown",
   "metadata": {
    "id": "UIjNhneuJT7T"
   },
   "source": [
    "# Generate Random Coordinates\n",
    "\n",
    "Used for generating new coordinates for initializing individuals in the lattice"
   ]
  },
  {
   "cell_type": "code",
   "execution_count": null,
   "metadata": {
    "id": "UkuOUGaQI9Us"
   },
   "outputs": [],
   "source": [
    "def get_random_coordinate(lattice_size):\n",
    "    \n",
    "    assert (type(lattice_size)==int)\n",
    "    \n",
    "    xy = np.random.randint(lattice_size, size=(2,))\n",
    "    \n",
    "    return Coordinate(*xy, lattice_size)"
   ]
  },
  {
   "cell_type": "markdown",
   "metadata": {
    "id": "8g_AUmrTg6xZ"
   },
   "source": [
    "# Default Parameters of Problem"
   ]
  },
  {
   "cell_type": "code",
   "execution_count": null,
   "metadata": {
    "id": "DudLLf2XyEoA"
   },
   "outputs": [],
   "source": [
    "TIME_CONSTANT = 5                                       # Number of time steps that make on day\n",
    "\n",
    "N_INDIVIDUALS_DEFAULT = 250                             # Chosen\n",
    "LATTICE_SIZE_DEFAULT = 50                               # Chosen\n",
    "INITIAL_INFECTION_RATE_DEFAULT = 0.01                   # Chosen\n",
    "\n",
    "MOVING_RATE_RANGE_DEFAULT = [0.6, 0.8]                  # Chosen\n",
    "PRESYMPTOMATIC_STAGE_MOVEMENT_FREEDOM = 1.              # Chosen\n",
    "DETECTED_STAGE_MOVEMENT_FREEDOM = 1.                    # Chosen\n",
    "\n",
    "INFECTION_PROBABILITY_DEFAULT = 0.5                     # Chosen\n",
    "SYMPTOMATIC_INFECTION_PROBABILITY_DEFAULT = 0.85        # From the paper\n",
    "\n",
    "AVERAGE_DAYS_OF_IMMUNITY = 75.                          # Coording to CDC, after recovery, each individual has at leaset 2-3 months of immunity\n",
    "AVERAGE_DAYS_UNTIL_DITECTING_SYMPTOMATIC_INDIVIDUAL = 3.# Chosen\n",
    "AVERAGE_DAYS_UNTIL_BECOMING_PRESYMPATIC = 4.            # From the paper\n",
    "AVERAGE_DAYS_UNTIL_BECOMING_CONTAGIOUS = 4.             # From the paper\n",
    "AVERAGE_DAYS_UNTIL_RECOVERY_AFTER_DETECTION = 4.        # Chosen\n",
    "AVERAGE_DAYS_UNTIL_RECOVERY_WITHOUT_DETECTION = 15.     # From the paper\n",
    "\n",
    "IMMUNITY_PROBABILITY = 1#-1./(AVERAGE_DAYS_OF_IMMUNITY*TIME_CONSTANT)                         \n",
    "SYMPTOMATIC_DETECTION_PROBABILITY_DEFAULT = 1./(AVERAGE_DAYS_UNTIL_DITECTING_SYMPTOMATIC_INDIVIDUAL*TIME_CONSTANT)\n",
    "BECOMING_PRESYMPATIC_ROBABILITY_DEFAULT = 1./(AVERAGE_DAYS_UNTIL_BECOMING_PRESYMPATIC*TIME_CONSTANT)\n",
    "BECOMING_CONTAGIOUS_PROBABILITY_DEFAULT = 1./(AVERAGE_DAYS_UNTIL_BECOMING_CONTAGIOUS*TIME_CONSTANT)\n",
    "RECOVERY_AFTER_DETECTION_PROBABILITY_DEFAULT = 1./(AVERAGE_DAYS_UNTIL_RECOVERY_AFTER_DETECTION*TIME_CONSTANT)\n",
    "RECOVERY_WITHOUT_DETECTION_PROBABILITY_DEFAULT = 1./(AVERAGE_DAYS_UNTIL_RECOVERY_WITHOUT_DETECTION*TIME_CONSTANT)\n",
    "\n",
    "average_recovery_steps_in_symptomatic_infection = (SYMPTOMATIC_DETECTION_PROBABILITY_DEFAULT/RECOVERY_AFTER_DETECTION_PROBABILITY_DEFAULT+RECOVERY_WITHOUT_DETECTION_PROBABILITY_DEFAULT)/(SYMPTOMATIC_DETECTION_PROBABILITY_DEFAULT+RECOVERY_AFTER_DETECTION_PROBABILITY_DEFAULT)\n",
    "\n",
    "AVERAGE_INFECTION_DAYS = (1/BECOMING_PRESYMPATIC_ROBABILITY_DEFAULT +\\\n",
    "                          1/BECOMING_CONTAGIOUS_PROBABILITY_DEFAULT +\\\n",
    "                         (1-SYMPTOMATIC_INFECTION_PROBABILITY_DEFAULT)*(1/RECOVERY_WITHOUT_DETECTION_PROBABILITY_DEFAULT) +\\\n",
    "                         SYMPTOMATIC_INFECTION_PROBABILITY_DEFAULT * average_recovery_steps_in_symptomatic_infection)/TIME_CONSTANT\n",
    "\n",
    "\n",
    "TRACED_INDIVIDUALS_FRACTION_DEFAULT = 0.4               # Chosen\n",
    "DAYS_TO_TRAC_INDIVIDUALS = AVERAGE_INFECTION_DAYS\n",
    "\n",
    "TEST_ACCURACY = 0.95                                    # According to the information on available test for covid\n",
    "\n",
    "N_TIME_STEPS_TO_TRACE_DEFAULT = int(DAYS_TO_TRAC_INDIVIDUALS*TIME_CONSTANT)\n",
    "\n",
    "\n",
    "# Total covid cases and death (Dec 2nd)\n",
    "# Cases: 264M             Deaths: 5,22M\n",
    "# Assume: Getting detected can increase the chance of survival by a factor of three\n",
    "FATALITY_AFTER_DETECTION_PROBABILITY_DEFAULT = 0       # 5.22/264.*(0.5)/TIME_CONSTANT\n",
    "FATALITY_BEFORE_DETECTION_PROBABILITY_DEFAULT = 0      # 5.22/264.*(1.5)/TIME_CONSTANT\n",
    "\n",
    "INITIALLY_TESTED_POPULATION_FRACTION = 0.00"
   ]
  },
  {
   "cell_type": "markdown",
   "metadata": {
    "id": "eV3D8IPHJp5E"
   },
   "source": [
    "# Individual Info Class\n",
    "\n",
    "Used for storing the disease-related information of individuals"
   ]
  },
  {
   "cell_type": "code",
   "execution_count": null,
   "metadata": {
    "id": "1KcT7FkvJlf1"
   },
   "outputs": [],
   "source": [
    "class DiseaseInfo:\n",
    "    \n",
    "    def __init__(self,\n",
    "                 infection_probability=INFECTION_PROBABILITY_DEFAULT,\n",
    "                 becoming_presymptomatic_probability=BECOMING_PRESYMPATIC_ROBABILITY_DEFAULT,\n",
    "                 becoming_contagious_probability=BECOMING_CONTAGIOUS_PROBABILITY_DEFAULT,\n",
    "                 symptomatic_infection_probability=SYMPTOMATIC_INFECTION_PROBABILITY_DEFAULT,\n",
    "                 symptomatic_detection_probability=SYMPTOMATIC_DETECTION_PROBABILITY_DEFAULT,\n",
    "                 recovery_after_detection_probability=RECOVERY_AFTER_DETECTION_PROBABILITY_DEFAULT,\n",
    "                 recovery_without_detection_probability=RECOVERY_WITHOUT_DETECTION_PROBABILITY_DEFAULT,\n",
    "                 fatality_after_detection_probability=FATALITY_AFTER_DETECTION_PROBABILITY_DEFAULT,\n",
    "                 fatality_before_detection_probability=FATALITY_BEFORE_DETECTION_PROBABILITY_DEFAULT,\n",
    "                 immunity_probability=IMMUNITY_PROBABILITY):\n",
    "        \n",
    "        self.infection_probability = infection_probability\n",
    "        self.becoming_presymptomatic_probability = becoming_presymptomatic_probability\n",
    "        self.becoming_contagious_probability = becoming_contagious_probability\n",
    "        self.symptomatic_infection_probability = symptomatic_infection_probability\n",
    "        self.symptomatic_detection_probability = symptomatic_detection_probability\n",
    "        self.recovery_after_detection_probability = recovery_after_detection_probability\n",
    "        self.recovery_without_detection_probability = recovery_without_detection_probability\n",
    "        self.fatality_after_detection_probability = fatality_after_detection_probability\n",
    "        self.fatality_before_detection_probability = fatality_before_detection_probability\n",
    "        self.immunity_probability = immunity_probability\n",
    "        \n",
    "\n",
    "    def __repr__(self):\n",
    "\n",
    "        return f'Infection Probability: {self.infection_probability}\\n'\\\n",
    "               f'Becoming Presymptomatic Probability: {self.becoming_presymptomatic_probability}\\n'\\\n",
    "               f'Becoming Contagious Probability: {self.becoming_contagious_probability}\\n'\\\n",
    "               f'Symptomatic Infection Probability: {self.symptomatic_infection_probability}\\n'\\\n",
    "               f'Symptomatic Detection Probability: {self.symptomatic_detection_probability}\\n'\\\n",
    "               f'Recovery After Detection Probability: {self.recovery_after_detection_probability}\\n'\\\n",
    "               f'Recovery Without Detection Probability: {self.recovery_without_detection_probability}\\n'\\\n",
    "               f'Fatality After Detection Probability: {self.fatality_after_detection_probability}\\n'\\\n",
    "               f'Fatality Before Detection Probability: {self.fatality_before_detection_probability}\\n'\\\n",
    "               f'Immunity Probability: {self.immunity_probability}'\n",
    "        \n",
    "    \n",
    "    def __str__(self):\n",
    "        \n",
    "        return self.__repr__()"
   ]
  },
  {
   "cell_type": "markdown",
   "metadata": {
    "id": "15jNUaNIJ52K"
   },
   "source": [
    "# Individual Class (Abstract Class)\n",
    "\n",
    "Contains the basic atributes and methods of individuals regardless of the epidemic category they belong to"
   ]
  },
  {
   "cell_type": "code",
   "execution_count": null,
   "metadata": {
    "id": "47emLmfaJ1EQ"
   },
   "outputs": [],
   "source": [
    "class Individual(ABC):\n",
    "    \n",
    "\n",
    "    VALIED_MOVING_DIRECTIONS = [Displacement(1,0), \n",
    "                                Displacement(0,1), \n",
    "                                Displacement(-1,0), \n",
    "                                Displacement(0,-1)]\n",
    "    \n",
    "    \n",
    "    def __init__(self, coordinate, moving_probability, disease_info):\n",
    "        \n",
    "        assert (type(coordinate)==Coordinate), \"Invalied coordinate\"\n",
    "        assert (type(disease_info)==DiseaseInfo), \"Invalied disease info\"\n",
    "        assert (moving_probability<=1 and moving_probability>=0), \"Invalied moving probability\"\n",
    "        self.coordinate = coordinate\n",
    "        self.disease_info = disease_info\n",
    "        self.moving_probability = moving_probability\n",
    "    \n",
    "    \n",
    "    @abstractmethod\n",
    "    def step_time(self, exposed_to_infection, motion_restriction_coeff=0):\n",
    "\n",
    "        pass\n",
    "    \n",
    "    \n",
    "    def update_position(self, motion_restriction_coeff=0):\n",
    "\n",
    "        if (np.random.uniform()<((1-motion_restriction_coeff)*self.stage_movemet_freedom*self.moving_probability)):\n",
    "            self.move()\n",
    "            \n",
    "    \n",
    "    def move(self):\n",
    "        \n",
    "        direction = self.select_random_direction()\n",
    "        self.coordinate += direction\n",
    "            \n",
    "    \n",
    "    def select_random_direction(self):\n",
    "        \n",
    "        movement_idx = np.random.randint(len(self.VALIED_MOVING_DIRECTIONS))\n",
    "        return self.VALIED_MOVING_DIRECTIONS[movement_idx]\n",
    "           \n",
    "        \n",
    "    @property\n",
    "    def type(self):\n",
    "\n",
    "        return type(self)\n",
    "\n",
    "\n",
    "    @property\n",
    "    def stage_movemet_freedom(self):\n",
    "\n",
    "        return 1.\n",
    "\n",
    "\n",
    "    @abstractmethod\n",
    "    def test_for_disease(self):\n",
    "\n",
    "        pass"
   ]
  },
  {
   "cell_type": "markdown",
   "metadata": {
    "id": "IHT7XiHgLL-j"
   },
   "source": [
    "# Dead Class (Inheriting from Individuals Class)\n",
    "\n",
    "Used for modeling a dead individual"
   ]
  },
  {
   "cell_type": "code",
   "execution_count": null,
   "metadata": {
    "id": "eWThooXzzgJl"
   },
   "outputs": [],
   "source": [
    "class Dead(Individual):\n",
    "    \n",
    "\n",
    "    def __init__(self, coordinate, moving_probability, disease_info):\n",
    "        \n",
    "        super().__init__(coordinate, moving_probability, disease_info)\n",
    "\n",
    "    \n",
    "    def step_time(self, exposed_to_infection, motion_restriction_coeff=0):\n",
    "\n",
    "        return self, False\n",
    "\n",
    "    @property\n",
    "    def stage_movemet_freedom(self):\n",
    "\n",
    "        return 0\n",
    "        \n",
    "\n",
    "    def test_for_disease(self):\n",
    "\n",
    "        return self"
   ]
  },
  {
   "cell_type": "markdown",
   "metadata": {
    "id": "KGH1XdSZ0010"
   },
   "source": [
    "# Infected Class (Abstract Class Inheriting from Individuals Class)\n",
    "\n",
    "Used for modeling an infected individual"
   ]
  },
  {
   "cell_type": "code",
   "execution_count": null,
   "metadata": {
    "id": "id7x71aj7b2L"
   },
   "outputs": [],
   "source": [
    "class Infected(Individual):\n",
    "    \n",
    "\n",
    "    def __init__(self, coordinate, moving_probability, disease_info):\n",
    "        \n",
    "        super().__init__(coordinate, moving_probability, disease_info)\n",
    "\n",
    "    \n",
    "    @abstractmethod\n",
    "    def step_time(self, exposed_to_infection, motion_restriction_coeff=0):\n",
    "\n",
    "        pass\n",
    "\n",
    "\n",
    "    def test_for_disease(self):\n",
    "        \n",
    "        if (np.random.uniform()<TEST_ACCURACY):\n",
    "            return Detected(self.coordinate, self.moving_probability, self.disease_info)\n",
    "        return self"
   ]
  },
  {
   "cell_type": "markdown",
   "metadata": {
    "id": "XbfNYIaU7goV"
   },
   "source": [
    "# Healthy Class (Abstract Class Inheriting from Individuals Class)\n",
    "\n",
    "Used for modeling a healthy individual"
   ]
  },
  {
   "cell_type": "code",
   "execution_count": null,
   "metadata": {
    "id": "ViJOYazZ7f2G"
   },
   "outputs": [],
   "source": [
    "class Healthy(Individual):\n",
    "    \n",
    "\n",
    "    def __init__(self, coordinate, moving_probability, disease_info, infected_before):\n",
    "        \n",
    "        super().__init__(coordinate, moving_probability, disease_info)\n",
    "        self.infected_before = infected_before\n",
    "\n",
    "\n",
    "    @property\n",
    "    @abstractmethod\n",
    "    def immunity_probability(self):\n",
    "        pass\n",
    "\n",
    "\n",
    "    def test_for_disease(self):\n",
    "        \n",
    "        if (np.random.uniform()<TEST_ACCURACY):\n",
    "            return self\n",
    "        return Detected(self.coordinate, self.moving_probability, self.disease_info)"
   ]
  },
  {
   "cell_type": "markdown",
   "metadata": {
    "id": "AObnTD-S8aID"
   },
   "source": [
    "# Susceptible Class (Inheriting from Healthy Class)\n",
    "\n",
    "Used for modeling a susceptible individual"
   ]
  },
  {
   "cell_type": "code",
   "execution_count": null,
   "metadata": {
    "id": "1HZTo4ng8Tyv"
   },
   "outputs": [],
   "source": [
    "class Susceptible(Healthy):\n",
    "    \n",
    "\n",
    "    def __init__(self, coordinate, moving_probability, disease_info, infected_before=False):\n",
    "        \n",
    "        super().__init__(coordinate, moving_probability, disease_info, infected_before)\n",
    "\n",
    "\n",
    "    @property\n",
    "    def immunity_probability(self):\n",
    "        \n",
    "        return 0\n",
    "\n",
    "    \n",
    "    def step_time(self, exposed_to_infection, motion_restriction_coeff=0):\n",
    "\n",
    "        individual = self\n",
    "        if (exposed_to_infection and (np.random.uniform()<self.disease_info.infection_probability) and (np.random.uniform()<1-self.immunity_probability)):\n",
    "            individual = Exposed(self.coordinate, self.moving_probability, self.disease_info)\n",
    "        individual.update_position(motion_restriction_coeff)\n",
    "        return individual, False"
   ]
  },
  {
   "cell_type": "markdown",
   "metadata": {
    "id": "LkJseFPVcvo8"
   },
   "source": [
    "# Exposed Class (Inheriting from Healthy Class)\n",
    "\n",
    "Used for modeling an exposed individual"
   ]
  },
  {
   "cell_type": "code",
   "execution_count": null,
   "metadata": {
    "id": "umF9DZtLgmV3"
   },
   "outputs": [],
   "source": [
    "class Exposed(Infected):\n",
    "    \n",
    "\n",
    "    def __init__(self, coordinate, moving_probability, disease_info):\n",
    "        \n",
    "        super().__init__(coordinate, moving_probability, disease_info)\n",
    "\n",
    "    \n",
    "    def step_time(self, exposed_to_infection, motion_restriction_coeff=0):\n",
    "\n",
    "        individual = self\n",
    "        if (np.random.uniform()<self.disease_info.becoming_presymptomatic_probability):\n",
    "            individual = PreSymptomatic(self.coordinate, self.moving_probability, self.disease_info)\n",
    "        individual.update_position(motion_restriction_coeff)\n",
    "        return individual, False"
   ]
  },
  {
   "cell_type": "markdown",
   "metadata": {
    "id": "C_UZVAxFBF9Q"
   },
   "source": [
    "# PreSymptomatic Class (Inheriting from Infected Class)\n",
    "\n",
    "Used for modeling an infected pre-symptomatic individual"
   ]
  },
  {
   "cell_type": "code",
   "execution_count": null,
   "metadata": {
    "id": "N9i3i1xW99f-"
   },
   "outputs": [],
   "source": [
    "class PreSymptomatic(Infected):\n",
    "    \n",
    "\n",
    "    def __init__(self, coordinate, moving_probability, disease_info):\n",
    "        \n",
    "        super().__init__(coordinate, moving_probability, disease_info)\n",
    "\n",
    "    \n",
    "    def step_time(self, exposed_to_infection, motion_restriction_coeff=0):\n",
    "\n",
    "        individual = self\n",
    "        if (np.random.uniform()<self.disease_info.becoming_contagious_probability):\n",
    "            if (np.random.uniform()<self.disease_info.symptomatic_infection_probability):\n",
    "                individual = InfectedSymptomatic(self.coordinate, self.moving_probability, self.disease_info)\n",
    "            else:\n",
    "                individual = InfectedAsymptomatic(self.coordinate, self.moving_probability, self.disease_info)\n",
    "        individual.update_position(motion_restriction_coeff)\n",
    "        return individual, False"
   ]
  },
  {
   "cell_type": "markdown",
   "metadata": {
    "id": "57f3UUCh-Yb3"
   },
   "source": [
    "# InfectedSymptomatic Class (Inheriting from Infected Class)\n",
    "\n",
    "Used for modeling an infected individual with symptoms"
   ]
  },
  {
   "cell_type": "code",
   "execution_count": null,
   "metadata": {
    "id": "JpoiZVHL_ojy"
   },
   "outputs": [],
   "source": [
    "class InfectedSymptomatic(Infected):\n",
    "    \n",
    "\n",
    "    def __init__(self, coordinate, moving_probability, disease_info):\n",
    "        \n",
    "        super().__init__(coordinate, moving_probability, disease_info)\n",
    "\n",
    "    \n",
    "    def step_time(self, exposed_to_infection, motion_restriction_coeff=0):\n",
    "\n",
    "        individual = self\n",
    "        r = np.random.uniform()\n",
    "        sd = False\n",
    "        if (r<self.disease_info.symptomatic_detection_probability):\n",
    "            individual = Detected(self.coordinate, self.moving_probability, self.disease_info)\n",
    "            sd = True\n",
    "        elif (r<self.disease_info.symptomatic_detection_probability+\n",
    "                self.disease_info.recovery_without_detection_probability):\n",
    "            individual = Recovered(self.coordinate, self.moving_probability, self.disease_info)\n",
    "        elif (r<self.disease_info.symptomatic_detection_probability+\n",
    "                self.disease_info.recovery_without_detection_probability+\n",
    "                self.disease_info.fatality_before_detection_probability):\n",
    "            individual = Dead(self.coordinate, self.moving_probability, self.disease_info)\n",
    "        individual.update_position(motion_restriction_coeff)\n",
    "        return individual , sd \n",
    "\n",
    "    \n",
    "    @property\n",
    "    def stage_movemet_freedom(self):\n",
    "\n",
    "        return PRESYMPTOMATIC_STAGE_MOVEMENT_FREEDOM"
   ]
  },
  {
   "cell_type": "markdown",
   "metadata": {
    "id": "oaKrf1cd_q0A"
   },
   "source": [
    "# InfectedAsymptomatic Class (Inheriting from Infected Class)\n",
    "\n",
    "Used for modeling an infected individual without symptoms"
   ]
  },
  {
   "cell_type": "code",
   "execution_count": null,
   "metadata": {
    "id": "VU-4vc12_woG"
   },
   "outputs": [],
   "source": [
    "class InfectedAsymptomatic(Infected):\n",
    "    \n",
    "\n",
    "    def __init__(self, coordinate, moving_probability, disease_info):\n",
    "        \n",
    "        super().__init__(coordinate, moving_probability, disease_info)\n",
    "\n",
    "    \n",
    "    def step_time(self, exposed_to_infection, motion_restriction_coeff=0):\n",
    "\n",
    "        individual = self\n",
    "        r = np.random.uniform()\n",
    "        if (r<self.disease_info.recovery_without_detection_probability):\n",
    "            individual = Recovered(self.coordinate, self.moving_probability, self.disease_info)\n",
    "        elif (r<self.disease_info.recovery_without_detection_probability+\n",
    "                self.disease_info.fatality_before_detection_probability):\n",
    "            individual = Dead(self.coordinate, self.moving_probability, self.disease_info)\n",
    "        individual.update_position(motion_restriction_coeff)\n",
    "        return individual, False"
   ]
  },
  {
   "cell_type": "markdown",
   "metadata": {
    "id": "y8f355cp9_sD"
   },
   "source": [
    "# Detected Class (Inheriting from Infected Class)\n",
    "\n",
    "Used for modeling a positive detected individual"
   ]
  },
  {
   "cell_type": "code",
   "execution_count": null,
   "metadata": {
    "id": "E4na3vbW82ER"
   },
   "outputs": [],
   "source": [
    "class Detected(Infected):\n",
    "    \n",
    "\n",
    "    def __init__(self, coordinate, moving_probability, disease_info):\n",
    "        \n",
    "        super().__init__(coordinate, moving_probability, disease_info)\n",
    "\n",
    "    \n",
    "    def step_time(self, exposed_to_infection, motion_restriction_coeff=0):\n",
    "\n",
    "        individual = self\n",
    "        r = np.random.uniform()\n",
    "        if (r<self.disease_info.recovery_after_detection_probability):\n",
    "            individual = Recovered(self.coordinate, self.moving_probability, self.disease_info)\n",
    "        elif (r<self.disease_info.recovery_after_detection_probability+\n",
    "                self.disease_info.fatality_after_detection_probability):\n",
    "            individual = Dead(self.coordinate, self.moving_probability, self.disease_info)\n",
    "        individual.update_position(motion_restriction_coeff)\n",
    "        return individual, False \n",
    "\n",
    "\n",
    "    @property\n",
    "    def stage_movemet_freedom(self):\n",
    "\n",
    "        return DETECTED_STAGE_MOVEMENT_FREEDOM"
   ]
  },
  {
   "cell_type": "markdown",
   "metadata": {
    "id": "DDzcN21E9t1x"
   },
   "source": [
    "# Recovered Class (Inheriting from Healthy Class)\n",
    "\n",
    "Used for modeling a recovered individual"
   ]
  },
  {
   "cell_type": "code",
   "execution_count": null,
   "metadata": {
    "id": "jf5qMQBA-uKV"
   },
   "outputs": [],
   "source": [
    "class Recovered(Healthy):\n",
    "    \n",
    "\n",
    "    def __init__(self, coordinate, moving_probability, disease_info):\n",
    "        \n",
    "        super().__init__(coordinate, moving_probability, disease_info, infected_before=True)\n",
    "\n",
    "\n",
    "    @property\n",
    "    def immunity_probability(self):\n",
    "        \n",
    "        return self.disease_info.immunity_probability\n",
    "\n",
    "    \n",
    "    def step_time(self, exposed_to_infection, motion_restriction_coeff=0):\n",
    "\n",
    "        individual = self\n",
    "        if (np.random.uniform()<1-self.immunity_probability):\n",
    "            individual = Susceptible(self.coordinate, self.moving_probability, self.disease_info, infected_before=True)\n",
    "        individual.update_position(motion_restriction_coeff)\n",
    "        return individual, False"
   ]
  },
  {
   "cell_type": "markdown",
   "metadata": {
    "id": "46wi1XufVzSl"
   },
   "source": [
    "# Contact Tracing Class\n",
    "\n",
    "Used for modeling contact tracing in pandemic"
   ]
  },
  {
   "cell_type": "code",
   "execution_count": null,
   "metadata": {
    "id": "zkqrQEVWjOCx"
   },
   "outputs": [],
   "source": [
    "class ContantTracing:\n",
    "\n",
    "\n",
    "    def __init__(self, population, traced_individuals_indices, n_time_steps_to_trace, lattice_size):\n",
    "\n",
    "        assert(np.min(traced_individuals_indices)>=0 and np.max(traced_individuals_indices)<len(population) and traced_individuals_indices.dtype==int), \"Invalied traced_individuals_indices\"\n",
    "        self.population = population\n",
    "        self.n_population = len(population)\n",
    "        self.traced_individuals_indices = traced_individuals_indices\n",
    "        self.lattice_size = lattice_size\n",
    "        self.contacts = [deque(maxlen=n_time_steps_to_trace) if i in self.traced_individuals_indices else None for i in range(self.n_population)]\n",
    "\n",
    "\n",
    "    def get_lattice(self):   \n",
    "        \n",
    "        lattice = [[[] for _ in range(self.lattice_size)] for _ in range(self.lattice_size)]\n",
    "        for individual_idx in self.traced_individuals_indices:\n",
    "            coordinate = self.population[individual_idx].coordinate\n",
    "            lattice[coordinate.xy[0]][coordinate.xy[1]].append(individual_idx)\n",
    "        return lattice\n",
    "\n",
    "\n",
    "    def get_positive_detected_individuals(self):\n",
    "\n",
    "        positive_detected_individuals = set()\n",
    "        for individual_idx in self.traced_individuals_indices:\n",
    "            individual_type = self.population[individual_idx].type\n",
    "            if (individual_type==Detected):\n",
    "                positive_detected_individuals.add(individual_idx)\n",
    "        return positive_detected_individuals\n",
    "\n",
    "\n",
    "    def update_contacts(self):\n",
    "\n",
    "        lattice = self.get_lattice()\n",
    "        for individual_idx in self.traced_individuals_indices:\n",
    "            coordinate = self.population[individual_idx].coordinate\n",
    "            self.contacts[individual_idx].append(lattice[coordinate.xy[0]][coordinate.xy[1]])\n",
    "    \n",
    "    \n",
    "    def step_time(self):\n",
    "\n",
    "        self.update_contacts()\n",
    "        probably_infected_individuals_indices = []\n",
    "        for individual_idx in self.get_positive_detected_individuals():\n",
    "            for contacts_in_each_time_step in self.contacts[individual_idx]:\n",
    "                probably_infected_individuals_indices.extend(contacts_in_each_time_step)\n",
    "            self.contacts[individual_idx].clear()\n",
    "        n_detections = self.test_individuals(set(probably_infected_individuals_indices))\n",
    "        return n_detections\n",
    "\n",
    "    \n",
    "    def test_individuals(self, individuals_indices):\n",
    "\n",
    "        n_detections = 0\n",
    "        for individual_idx in individuals_indices:\n",
    "            if (self.population[individual_idx].type!=Detected):\n",
    "                self.population[individual_idx] = self.population[individual_idx].test_for_disease()\n",
    "                if (self.population[individual_idx].type==Detected):\n",
    "                    n_detections += 1\n",
    "        return n_detections\n",
    "\n",
    "    def test_random_individuals(self, n_tests):\n",
    "\n",
    "        sellected_indices = np.random.permutation(self.traced_individuals_indices)[:n_tests]\n",
    "        _ = self.test_individuals(sellected_indices)"
   ]
  },
  {
   "cell_type": "markdown",
   "metadata": {
    "id": "kzNVPIPMm6dT"
   },
   "source": [
    "# InfectionStatistics\n",
    "Used for storing the statistices related to the spread of hte disease in socienty at each time step."
   ]
  },
  {
   "cell_type": "code",
   "execution_count": null,
   "metadata": {
    "id": "naRKXPB8m5t_"
   },
   "outputs": [],
   "source": [
    "class InfectionStatistics:\n",
    "    \n",
    "    \n",
    "    def __init__(self, \n",
    "                 n_susceptible, \n",
    "                 n_exposed,\n",
    "                 n_presymptomatic, \n",
    "                 n_asymptomatic, \n",
    "                 n_symptomatic, \n",
    "                 n_detected,\n",
    "                 n_recovered,\n",
    "                 n_dead,\n",
    "                 lockdown_effectiveness,\n",
    "                 n_ct_detections,\n",
    "                 n_sd_detections):\n",
    "        \n",
    "        self.n_susceptible = n_susceptible\n",
    "        self.n_exposed = n_exposed\n",
    "        self.n_presymptomatic = n_presymptomatic\n",
    "        self.n_asymptomatic  = n_asymptomatic\n",
    "        self.n_symptomatic = n_symptomatic\n",
    "        self.n_detected = n_detected\n",
    "        self.n_recovered = n_recovered\n",
    "        self.n_dead = n_dead\n",
    "        self.lockdown_effectiveness = lockdown_effectiveness\n",
    "        self.n_ct_detections = n_ct_detections\n",
    "        self.n_sd_detections = n_sd_detections\n",
    "        \n",
    "        \n",
    "    def __repr__(self):\n",
    "\n",
    "        return f'Number of Susceptible: {self.n_susceptible}\\n'\\\n",
    "               f'Number of Exposed: {self.n_exposed}\\n'\\\n",
    "               f'Number of Presymptomatic: {self.n_presymptomatic}\\n'\\\n",
    "               f'Number of Asymptomatic: {self.n_asymptomatic}\\n'\\\n",
    "               f'Number of Symptomatic: {self.n_symptomatic}\\n'\\\n",
    "               f'Number of Detected: {self.n_detected}\\n'\\\n",
    "               f'Number of Recovered: {self.n_recovered}\\n'\\\n",
    "               f'Number of Dead: {self.n_dead}\\n'\\\n",
    "               f'Lockdown Effectiveness: {self.lockdown_effectiveness}'\n",
    "        \n",
    "    \n",
    "    def __str__(self):\n",
    "        \n",
    "        return self.__repr__()"
   ]
  },
  {
   "cell_type": "markdown",
   "metadata": {
    "id": "vBNUgIGfVvkP"
   },
   "source": [
    "# Society Class\n",
    "\n",
    "Used for modeling a society in pandemic"
   ]
  },
  {
   "cell_type": "code",
   "execution_count": null,
   "metadata": {
    "id": "PatNkF40z1oF"
   },
   "outputs": [],
   "source": [
    "class Society:\n",
    "    \n",
    "\n",
    "    def __init__(self, \n",
    "                 n_individuals=N_INDIVIDUALS_DEFAULT, \n",
    "                 lattice_size=LATTICE_SIZE_DEFAULT, \n",
    "                 initial_infection_rate=INITIAL_INFECTION_RATE_DEFAULT,\n",
    "                 moving_rate_range=MOVING_RATE_RANGE_DEFAULT,\n",
    "                 traced_indididuals_fraction=TRACED_INDIVIDUALS_FRACTION_DEFAULT,\n",
    "                 n_time_steps_to_trace=N_TIME_STEPS_TO_TRACE_DEFAULT, \n",
    "                 initially_tested_population_fraction=INITIALLY_TESTED_POPULATION_FRACTION,\n",
    "                 disease_info=DiseaseInfo(), \n",
    "                 infection_coordinates=[]): \n",
    "\n",
    "        assert (type(lattice_size)==int) and (lattice_size>0), \"Invalied lattice_size\" \n",
    "        assert (initial_infection_rate>0) and  (initial_infection_rate<1), \"Invalied initial_infection_rate\" \n",
    "        assert type(disease_info==DiseaseInfo), \"Invalied disease_info\" \n",
    "        assert type(moving_rate_range==list), \"Invalied moving_rate_range\" \n",
    "        assert len(moving_rate_range)==2, \"Invalied moving_rate_range\" \n",
    "        assert max(moving_rate_range)<=1 and min(moving_rate_range)>=0, \"Invalied moving_rate_range\" \n",
    "        \n",
    "        self.n_individuals = n_individuals\n",
    "        \n",
    "        self.initial_infection_rate = initial_infection_rate\n",
    "\n",
    "        self.disease_info = disease_info\n",
    "        \n",
    "        self.lattice_size = lattice_size\n",
    "\n",
    "        self.n_susceptible = 0\n",
    "        self.n_exposed = 0\n",
    "        self.n_presymptomatic = 0\n",
    "        self.n_asymptomatic = 0\n",
    "        self.n_symptomatic = 0\n",
    "        self.n_detected = 0\n",
    "        self.n_recovered = 0\n",
    "        self.n_dead = 0\n",
    "        \n",
    "        if infection_coordinates==[]:\n",
    "            for _ in range(int(n_individuals*initial_infection_rate)):\n",
    "                infection_coordinates.append(get_random_coordinate(self.lattice_size))\n",
    "        \n",
    "        self.population = []\n",
    "        self.infected_spots = set()\n",
    "        for coordinate in infection_coordinates:\n",
    "            moving_probability = np.random.uniform(*moving_rate_range)\n",
    "            self.population.append(PreSymptomatic(coordinate, moving_probability, self.disease_info))\n",
    "            self.n_presymptomatic += 1\n",
    "            self.infected_spots.add(coordinate)\n",
    "        while (len(self.population)!=n_individuals):\n",
    "            coordinate = get_random_coordinate(self.lattice_size)\n",
    "            moving_probability = np.random.uniform(*moving_rate_range)\n",
    "            self.population.append(Susceptible(coordinate, moving_probability, self.disease_info))\n",
    "            self.n_susceptible += 1\n",
    "\n",
    "        self.do_contact_tracing = True if (traced_indididuals_fraction>0) else False\n",
    "        n_ct_ditections = 0\n",
    "        if self.do_contact_tracing:\n",
    "            traced_individuals_indices = np.random.permutation(self.n_individuals)[:int(traced_indididuals_fraction*self.n_individuals)]\n",
    "            self.contact_tracing = ContantTracing(self.population, traced_individuals_indices, n_time_steps_to_trace=n_time_steps_to_trace, lattice_size=self.lattice_size)\n",
    "            self.contact_tracing.test_random_individuals(int(n_individuals*initially_tested_population_fraction))\n",
    "            # n_ct_ditections = self.contact_tracing.step_time()\n",
    "        \n",
    "        self.log = []\n",
    "        self.log_info(lockdown_effectiveness=0, n_ct_ditections=0, n_sd_ditections=0)\n",
    "        \n",
    "    \n",
    "    def iterate(self, n_iterations=None, lockdown_iterations=[], lockdown_effectiveness=0, print_results=True, verbose=False):\n",
    "        \n",
    "        if (n_iterations==None): n_iterations = np.inf\n",
    "        if (print_results and verbose): print(f\"Iteration {0}:\\t\\t{self.log[-1]}\\t\\t\\r\", end='')\n",
    "        if (print_results and (not verbose)): print(f\"Iteration {0}\\t\\t\\r\", end='')\n",
    "        iteration = 1\n",
    "        while True:\n",
    "            lockdown = True if iteration in lockdown_iterations else False\n",
    "            motion_restriction_coeff = lockdown_effectiveness if lockdown else 0\n",
    "            self.step_time(motion_restriction_coeff)\n",
    "            if (print_results and verbose): print(f\"Iteration {iteration}:\\t\\t{self.log[-1]}\\t\\t\\r\", end='')\n",
    "            if (print_results and not verbose): print(f\"Iteration {iteration}\\t\\t\\r\", end='')\n",
    "            if ((self.n_exposed+self.n_presymptomatic+self.n_asymptomatic+self.n_symptomatic+self.n_detected)==0 or iteration==n_iterations): \n",
    "                break\n",
    "            iteration += 1\n",
    "    \n",
    "    \n",
    "    def step_time(self, motion_restriction_coeff):\n",
    "        \n",
    "        n_ct_ditections = 0\n",
    "        if (self.do_contact_tracing): \n",
    "            n_ct_ditections = self.contact_tracing.step_time()\n",
    "        \n",
    "        infected_spots = set()\n",
    "        susceptible = 0\n",
    "        exposed = 0\n",
    "        presymptomatic = 0\n",
    "        asymptomatic = 0\n",
    "        symptomatic = 0\n",
    "        detected = 0\n",
    "        recovered = 0\n",
    "        dead = 0\n",
    "        n_sd_ditections = 0\n",
    "        \n",
    "        for idx in range(len(self.population)): \n",
    "            exposed_to_infection = True if self.population[idx].coordinate in self.infected_spots else False\n",
    "            self.population[idx], sd_detected = self.population[idx].step_time(exposed_to_infection, motion_restriction_coeff)\n",
    "            n_sd_ditections += int(sd_detected)\n",
    "            individual_type = self.population[idx].type\n",
    "            if (individual_type==Susceptible):\n",
    "                susceptible += 1\n",
    "            elif (individual_type==Exposed):\n",
    "                exposed += 1\n",
    "            elif (individual_type==PreSymptomatic):\n",
    "                presymptomatic += 1\n",
    "                infected_spots.add(self.population[idx].coordinate)\n",
    "            elif (individual_type==InfectedAsymptomatic):\n",
    "                asymptomatic += 1\n",
    "                infected_spots.add(self.population[idx].coordinate)\n",
    "            elif (individual_type==InfectedSymptomatic):\n",
    "                symptomatic += 1\n",
    "                infected_spots.add(self.population[idx].coordinate)\n",
    "            elif (individual_type==Detected):\n",
    "                detected += 1\n",
    "                infected_spots.add(self.population[idx].coordinate)\n",
    "            elif (individual_type==Recovered):\n",
    "                recovered += 1\n",
    "            elif (individual_type==Dead):\n",
    "                dead += 1\n",
    "        \n",
    "        self.infected_spots = infected_spots\n",
    "        self.n_susceptible = susceptible\n",
    "        self.n_exposed = exposed\n",
    "        self.n_presymptomatic = presymptomatic\n",
    "        self.n_asymptomatic  = asymptomatic\n",
    "        self.n_symptomatic = symptomatic\n",
    "        self.n_detected = detected\n",
    "        self.n_recovered = recovered\n",
    "        self.n_dead = dead\n",
    "        \n",
    "        self.log_info(motion_restriction_coeff, n_ct_ditections, n_sd_ditections)\n",
    "        \n",
    "            \n",
    "    \n",
    "    def log_info(self, lockdown_effectiveness, n_ct_ditections, n_sd_ditections):\n",
    "\n",
    "        self.log.append(InfectionStatistics(self.n_susceptible, \n",
    "                                            self.n_exposed,\n",
    "                                            self.n_presymptomatic, \n",
    "                                            self.n_asymptomatic, \n",
    "                                            self.n_symptomatic, \n",
    "                                            self.n_detected,\n",
    "                                            self.n_recovered,\n",
    "                                            self.n_dead,\n",
    "                                            lockdown_effectiveness, \n",
    "                                            n_ct_ditections,\n",
    "                                            n_sd_ditections))"
   ]
  },
  {
   "cell_type": "code",
   "execution_count": null,
   "metadata": {
    "id": "QlFVs7rGWGU3"
   },
   "outputs": [],
   "source": [
    "n_sd_probabilities = n_ct_probabilities = 20\n",
    "sd_probabilities = np.array(list(range(0,n_sd_probabilities+1)))/(n_sd_probabilities)/2\n",
    "ct_probabilities = np.array(list(range(0,n_ct_probabilities+1)))/(n_ct_probabilities)\n",
    "N = 20\n",
    "\n",
    "run_log = [[[] for _ in ct_probabilities] for _ in sd_probabilities]\n",
    "\n",
    "infection_coordinates = [get_random_coordinate(LATTICE_SIZE_DEFAULT) for _ in range(int(N_INDIVIDUALS_DEFAULT*INITIAL_INFECTION_RATE_DEFAULT))]\n",
    "\n",
    "counter = 1\n",
    "for n in range(N):\n",
    "    for idx1, sd in enumerate(sd_probabilities):\n",
    "        for idx2, ct in enumerate(ct_probabilities):\n",
    "            print(f\"run {counter}/{n_sd_probabilities*n_ct_probabilities*N}\\t\\tSD: {sd}\\tCT: {ct}\")\n",
    "            disease_info = DiseaseInfo(symptomatic_detection_probability=sd)\n",
    "            society = Society(traced_indididuals_fraction=ct, infection_coordinates=deepcopy(infection_coordinates), disease_info=disease_info)\n",
    "            society.iterate(n_iterations=100000, print_results=True, verbose=False)\n",
    "            run_log[idx1][idx2].append(society.log)\n",
    "            counter += 1\n",
    "    print(\"\\n\", np.array([[np.mean([n[-1].n_recovered for n in y]) for y in x] for x in run_log]))"
   ]
  }
 ],
 "metadata": {
  "colab": {
   "collapsed_sections": [],
   "name": "SOCS_Project_ sd_vs_ct.ipynb",
   "provenance": []
  },
  "kernelspec": {
   "display_name": "Python 3 (ipykernel)",
   "language": "python",
   "name": "python3"
  },
  "language_info": {
   "codemirror_mode": {
    "name": "ipython",
    "version": 3
   },
   "file_extension": ".py",
   "mimetype": "text/x-python",
   "name": "python",
   "nbconvert_exporter": "python",
   "pygments_lexer": "ipython3",
   "version": "3.9.7"
  }
 },
 "nbformat": 4,
 "nbformat_minor": 1
}
